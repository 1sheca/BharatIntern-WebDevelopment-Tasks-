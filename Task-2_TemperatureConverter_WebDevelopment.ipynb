{
 "cells": [
  {
   "cell_type": "code",
   "execution_count": null,
   "id": "944f2be3",
   "metadata": {},
   "outputs": [],
   "source": [
    "temperature_converter/\n",
    "│\n",
    "├── static/\n",
    "│   └── style.css\n",
    "│\n",
    "├── templates/\n",
    "│   └── index.html\n",
    "│\n",
    "└── app.py\n"
   ]
  },
  {
   "cell_type": "code",
   "execution_count": null,
   "id": "d366f987",
   "metadata": {},
   "outputs": [],
   "source": [
    "from flask import Flask, render_template\n",
    "\n",
    "app = Flask(__name__)\n",
    "\n",
    "@app.route('/')\n",
    "def index():\n",
    "    return render_template('index.html')\n",
    "\n",
    "if __name__ == '__main__':\n",
    "    app.run(debug=True)\n"
   ]
  },
  {
   "cell_type": "code",
   "execution_count": null,
   "id": "a3f29707",
   "metadata": {},
   "outputs": [],
   "source": [
    "<!DOCTYPE html>\n",
    "<html>\n",
    "<head>\n",
    "    <title>Temperature Converter</title>\n",
    "    <link rel=\"stylesheet\" href=\"{{ url_for('static', filename='style.css') }}\">\n",
    "</head>\n",
    "<body>\n",
    "    <header>\n",
    "        <h1>Temperature Converter</h1>\n",
    "    </header>\n",
    "    <main>\n",
    "        <div class=\"container\">\n",
    "            <label for=\"celsius\">Celsius:</label>\n",
    "            <input type=\"number\" id=\"celsius\" placeholder=\"Enter Celsius\" oninput=\"convert('C')\">\n",
    "        </div>\n",
    "        <div class=\"container\">\n",
    "            <label for=\"fahrenheit\">Fahrenheit:</label>\n",
    "            <input type=\"number\" id=\"fahrenheit\" placeholder=\"Enter Fahrenheit\" oninput=\"convert('F')\">\n",
    "        </div>\n",
    "    </main>\n",
    "    <footer>\n",
    "        <p>&copy; 2023 Temperature Converter</p>\n",
    "    </footer>\n",
    "    <script src=\"{{ url_for('static', filename='script.js') }}\"></script>\n",
    "</body>\n",
    "</html>\n"
   ]
  },
  {
   "cell_type": "code",
   "execution_count": null,
   "id": "3b5e8a7f",
   "metadata": {},
   "outputs": [],
   "source": [
    "function convert(fromUnit) {\n",
    "    if (fromUnit === 'C') {\n",
    "        let celsius = parseFloat(document.getElementById('celsius').value);\n",
    "        let fahrenheit = (celsius * 9/5) + 32;\n",
    "        document.getElementById('fahrenheit').value = fahrenheit.toFixed(2);\n",
    "    } else if (fromUnit === 'F') {\n",
    "        let fahrenheit = parseFloat(document.getElementById('fahrenheit').value);\n",
    "        let celsius = (fahrenheit - 32) * 5/9;\n",
    "        document.getElementById('celsius').value = celsius.toFixed(2);\n",
    "    }\n",
    "}\n"
   ]
  },
  {
   "cell_type": "code",
   "execution_count": null,
   "id": "eb757515",
   "metadata": {},
   "outputs": [],
   "source": [
    "body {\n",
    "    font-family: Arial, sans-serif;\n",
    "    margin: 0;\n",
    "    padding: 0;\n",
    "    background-color: #f8f8f8;\n",
    "}\n",
    "\n",
    "header {\n",
    "    background-color: #333;\n",
    "    color: white;\n",
    "    text-align: center;\n",
    "    padding: 10px 0;\n",
    "}\n",
    "\n",
    "main {\n",
    "    padding: 20px;\n",
    "}\n",
    "\n",
    ".container {\n",
    "    display: flex;\n",
    "    align-items: center;\n",
    "    margin-bottom: 10px;\n",
    "}\n",
    "\n",
    "label {\n",
    "    margin-right: 10px;\n",
    "    font-weight: bold;\n",
    "}\n",
    "\n",
    "input {\n",
    "    padding: 5px;\n",
    "    border: 1px solid #ccc;\n",
    "    border-radius: 5px;\n",
    "}\n",
    "\n",
    "footer {\n",
    "    text-align: center;\n",
    "    padding: 10px 0;\n",
    "    background-color: #444;\n",
    "    color: white;\n",
    "}\n",
    "\n",
    "footer p {\n",
    "    margin: 0;\n",
    "}\n"
   ]
  },
  {
   "cell_type": "code",
   "execution_count": null,
   "id": "7acb25fa",
   "metadata": {},
   "outputs": [],
   "source": [
    "python app.py\n"
   ]
  }
 ],
 "metadata": {
  "kernelspec": {
   "display_name": "Python 3 (ipykernel)",
   "language": "python",
   "name": "python3"
  },
  "language_info": {
   "codemirror_mode": {
    "name": "ipython",
    "version": 3
   },
   "file_extension": ".py",
   "mimetype": "text/x-python",
   "name": "python",
   "nbconvert_exporter": "python",
   "pygments_lexer": "ipython3",
   "version": "3.11.3"
  }
 },
 "nbformat": 4,
 "nbformat_minor": 5
}
